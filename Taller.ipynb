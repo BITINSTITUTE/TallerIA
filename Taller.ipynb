{
 "cells": [
  {
   "cell_type": "markdown",
   "metadata": {},
   "source": [
    "# 1. Importar librearías útiles.\n",
    "\n",
    "#### Numpy: \n",
    "Matrices, vectores, funciones matemáticas y misceláneas. \n",
    "#### Pandas:\n",
    "Lectura y manejo de datos.\n",
    "#### Matplotlib:\n",
    "Gráficas.\n",
    "#### Seaborn:\n",
    "Gráficas a un nivel más alto que Matplotlib."
   ]
  },
  {
   "cell_type": "code",
   "execution_count": 1,
   "metadata": {},
   "outputs": [],
   "source": [
    "#import numpy as np\n",
    "#import matplotlib.pyplot as plt\n",
    "#import pandas as pd\n",
    "# importe la librería seaborn como sns"
   ]
  },
  {
   "cell_type": "markdown",
   "metadata": {},
   "source": [
    "# 2. Importar los datos"
   ]
  },
  {
   "cell_type": "code",
   "execution_count": null,
   "metadata": {},
   "outputs": [],
   "source": []
  },
  {
   "cell_type": "markdown",
   "metadata": {},
   "source": [
    "\n",
    "### Datos del cliente bancario:\n",
    "1 - age: Edad (numérica)\n",
    "\n",
    "2 - job: Trabajo (categorical: 'admin.', 'Blue-collar', 'entrepreneur', 'housemaid', 'management', 'retired', 'self-employed', 'services', 'student' , 'technician', 'unemployed', 'unknown')\n",
    "\n",
    "3 - marital: Estado civil (categorical: 'divorced', 'married', 'single', 'unknown'; note: 'divorced' means divorced or widowed)\n",
    "\n",
    "4 - education: Estudios (categorical: 'basic.4y', 'basic.6y', 'basic.9y', 'high.school', 'illiterate', 'professional.course', 'university.degree', 'unknown')\n",
    "\n",
    "5 - default: Tiene crédito por defecto? (categorical: 'no', 'yes', 'unknown')\n",
    "\n",
    "6 - housing: Tiene hipoteca? (categorical: 'no', 'yes', 'unknown')\n",
    "\n",
    "7 - loan: Tiene un préstamo? (categorical: 'no', 'yes', 'unknown')\n",
    "\n",
    "### Relacionado con el último contacto de la campaña actual:\n",
    "8 - contact: tipo de comunicación de contacto (categorical: 'cellular','telephone')\n",
    "\n",
    "9 - month: último mes del año de contacto (categorical: 'jan', 'feb', 'mar', ..., 'nov', 'dec')\n",
    "\n",
    "10 - day_of_week: último día de contacto de la semana (categorical: 'mon','tue','wed','thu','fri')\n",
    "\n",
    "11 - duration: duración del último contacto, en segundos (numérico). Nota importante: este atributo afecta en gran medida el objetivo de salida (por ejemplo, si duración = 0, entonces y = 'no'). Sin embargo, la duración no se conoce antes de realizar una llamada. Además, después del final de la llamada y obviamente se sabe. Por lo tanto, esta entrada solo debe incluirse con fines de referencia y debe descartarse si la intención es tener un modelo predictivo realista.\n",
    "### Otros atributos:\n",
    "12 - campaign: número de contactos realizados durante esta campaña y para este cliente (numérico, incluye el último contacto)\n",
    "\n",
    "13 pdays: número de días que pasaron después de que el cliente fue contactado por última vez desde una campaña anterior (numérico; 999 significa que el cliente no fue contactado previamente)\n",
    "\n",
    "14 - previous: número de contactos realizados antes de esta campaña y para este cliente (numérico)\n",
    "\n",
    "15 - poutcome: resultado de la campaña de marketing anterior (categorical: 'failure','nonexistent','success')\n",
    "### Atributos del contexto social y económico\n",
    "16 - emp.var.rate: tasa de variación del empleo - indicador trimestral (numérico)\n",
    "\n",
    "17 - cons.price.idx: índice de precios al consumidor - indicador mensual (numérico)\n",
    "\n",
    "18 - cons.conf.idx: índice de confianza del consumidor - indicador mensual (numérico)\n",
    "\n",
    "19 - euribor3m: tarifa euribor a 3 meses - indicador diario (numérico)\n",
    "\n",
    "20 - nr.employed: número de empleados - indicador trimestral (numérico)"
   ]
  },
  {
   "cell_type": "markdown",
   "metadata": {},
   "source": [
    "# 3. Limpiar datos y preprocesarlos \n",
    "\n",
    "#### Obtener nombres de columnas que tienen variables categóricas"
   ]
  },
  {
   "cell_type": "code",
   "execution_count": null,
   "metadata": {},
   "outputs": [],
   "source": []
  },
  {
   "cell_type": "markdown",
   "metadata": {},
   "source": [
    "#### Transformar datos"
   ]
  },
  {
   "cell_type": "code",
   "execution_count": 2,
   "metadata": {},
   "outputs": [],
   "source": [
    "#from sklearn.preprocessing import LabelEncoder\n",
    "#le = LabelEncoder()\n",
    "#datos[...] = datos[...].apply(lambda x: le.fit_transform(x))\n",
    "#datos_=datos.T"
   ]
  },
  {
   "cell_type": "markdown",
   "metadata": {},
   "source": [
    "#### Datos transformados"
   ]
  },
  {
   "cell_type": "code",
   "execution_count": null,
   "metadata": {},
   "outputs": [],
   "source": []
  },
  {
   "cell_type": "markdown",
   "metadata": {},
   "source": [
    "# 4. Visualizar los datos de las diferentes clases"
   ]
  },
  {
   "cell_type": "code",
   "execution_count": null,
   "metadata": {},
   "outputs": [],
   "source": []
  },
  {
   "cell_type": "markdown",
   "metadata": {},
   "source": [
    "#### Transformandolos a arreglos de numpy"
   ]
  },
  {
   "cell_type": "code",
   "execution_count": null,
   "metadata": {},
   "outputs": [],
   "source": []
  },
  {
   "cell_type": "code",
   "execution_count": null,
   "metadata": {},
   "outputs": [],
   "source": []
  },
  {
   "cell_type": "code",
   "execution_count": null,
   "metadata": {},
   "outputs": [],
   "source": []
  },
  {
   "cell_type": "markdown",
   "metadata": {},
   "source": [
    "# 5. Entrenar un modelo SVM\n",
    "\n",
    "A partir del conjunto de datos ya procesado, podemos etiquetar las clases y entrenar una SVM para construir un modelo que prediga la clase de una nueva muestra. Una SVM es un modelo que representa los puntos de muestra del espacio, separando las clases en dos espacios lo más amplios posibles mediante un hiperplano de separación definido como el vector entre los 2 puntos más cercanos de las dos clases, llamado vector de soporte.\n"
   ]
  },
  {
   "cell_type": "code",
   "execution_count": null,
   "metadata": {},
   "outputs": [],
   "source": []
  },
  {
   "cell_type": "code",
   "execution_count": null,
   "metadata": {},
   "outputs": [],
   "source": []
  },
  {
   "cell_type": "code",
   "execution_count": null,
   "metadata": {},
   "outputs": [],
   "source": []
  },
  {
   "cell_type": "code",
   "execution_count": null,
   "metadata": {},
   "outputs": [],
   "source": []
  },
  {
   "cell_type": "code",
   "execution_count": null,
   "metadata": {},
   "outputs": [],
   "source": [
   "from sklearn.metrics import accuracy_score\n",
   "score=accuracy_score(Y_pred, Y, normalize=True)\n",
   "clf.predict(np.array([33,3,1,0,0,4000,0,0,0,19,10,80,4,300,3,3]).reshape(1,-1))"
]
  },
  {
   "cell_type": "markdown",
   "metadata": {},
   "source": [
    "# 6. Evalúe su modelo"
   ]
  },
  {
   "cell_type": "code",
   "execution_count": null,
   "metadata": {},
   "outputs": [],
   "source": []
  },
  {
   "cell_type": "markdown",
   "metadata": {},
   "source": [
    "#### Intente lo siguiente"
   ]
  },
  {
   "cell_type": "code",
   "execution_count": 3,
   "metadata": {},
   "outputs": [],
   "source": [
    "#edad=input(\"Indique su edad: \")\n",
    "#job=input(\"Indique su trabajo: \")\n",
    "#marital=input(\"Indique su nivel de educación: \")\n",
    "#default_=0\n",
    "#balance=input(\"Ingrese su cuenta bancaria: \")\n",
    "#datos_usuario=[edad,job,marital,default_,balance,0,0,0,19,10,80,4,300,3,3,0]"
   ]
  },
  {
   "cell_type": "code",
   "execution_count": 4,
   "metadata": {},
   "outputs": [],
   "source": [
    "#print('La clase predicha es la clase {}'.format(clf.predict(np.array(datos_usuario).reshape(1,-1))))"
   ]
  },
  {
   "cell_type": "code",
   "execution_count": null,
   "metadata": {},
   "outputs": [],
   "source": []
  }
 ],
 "metadata": {
  "kernelspec": {
   "display_name": "Python 3",
   "language": "python",
   "name": "python3"
  },
  "language_info": {
   "codemirror_mode": {
    "name": "ipython",
    "version": 3
   },
   "file_extension": ".py",
   "mimetype": "text/x-python",
   "name": "python",
   "nbconvert_exporter": "python",
   "pygments_lexer": "ipython3",
   "version": "3.7.4"
  }
 },
 "nbformat": 4,
 "nbformat_minor": 2
}
