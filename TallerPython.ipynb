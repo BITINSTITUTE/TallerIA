{
 "cells": [
  {
   "cell_type": "markdown",
   "metadata": {},
   "source": [
    "# Primero vamos a empezar con lo más básico, que es ¿cómo definir variables en python?\n",
    "\n",
    "Inicialmente, definiremos variables como nuestro nombre y nuestra edad"
   ]
  },
  {
   "cell_type": "code",
   "execution_count": 5,
   "metadata": {},
   "outputs": [],
   "source": [
    "nombre=\"David\" #Dato guardado en memoria\n",
    "Edad=23\n",
    "valor=245.0"
   ]
  },
  {
   "cell_type": "markdown",
   "metadata": {},
   "source": [
    "# Print\n",
    "Para imprimir escribe:\n",
    "\n",
    "print(\"Hola, este es un ejemplo\")"
   ]
  },
  {
   "cell_type": "code",
   "execution_count": 6,
   "metadata": {},
   "outputs": [
    {
     "name": "stdout",
     "output_type": "stream",
     "text": [
      "Hola\n",
      "La edad de David es 23 años\n"
     ]
    }
   ],
   "source": [
    "print(\"Hola\")\n",
    "print(\"La edad de {} es {} años\".format(David,Edad))\n"
   ]
  },
  {
   "cell_type": "markdown",
   "metadata": {},
   "source": [
    "# Funciones\n",
    "# BITINSTITUTE/TallerIA"
   ]
  },
  {
   "cell_type": "code",
   "execution_count": 7,
   "metadata": {},
   "outputs": [],
   "source": [
    "def calcularEdadMeses(nombre,edad):\n",
    "    edadMeses=edad*12\n",
    "    print(\"La edad de {} es {} meses\".format(nombre,edadMeses))\n"
   ]
  },
  {
   "cell_type": "code",
   "execution_count": 8,
   "metadata": {},
   "outputs": [
    {
     "name": "stdout",
     "output_type": "stream",
     "text": [
      "La edad de Angela es 228 meses\n",
      "La edad de Camila es 252 meses\n",
      "La edad de Andres es 276 meses\n",
      "La edad de Daniel es 624 meses\n"
     ]
    }
   ],
   "source": [
    "calcularEdadMeses(\"Angela\",19)\n",
    "calcularEdadMeses(\"Camila\",21)\n",
    "calcularEdadMeses(\"Andres\",23)\n",
    "calcularEdadMeses(\"Daniel\",52)\n"
   ]
  },
  {
   "cell_type": "markdown",
   "metadata": {},
   "source": [
    "# Listas"
   ]
  },
  {
   "cell_type": "code",
   "execution_count": 13,
   "metadata": {},
   "outputs": [],
   "source": [
    "lista=[\"David\",\"Camila\",\"Cesar\",\"Natalia\"]\n",
    "lista=[1,2,3,4,5] # Para para almacenar variables\n",
    "\n",
    "conjunto={\"llave1\":[\"uno\",\"one\",\"un\"],\"llave2\":[\"dos\",\"two\"]}"
   ]
  },
  {
   "cell_type": "code",
   "execution_count": 10,
   "metadata": {},
   "outputs": [],
   "source": [
    "lista=[1,2,3,4,5] # Para para almacenar variables\n",
    "\n",
    "conjunto={\"ASDfasd\":[\"uno\",\"one\",\"un\"],\"beh\":[\"dos\",\"two\"]}"
   ]
  },
  {
   "cell_type": "code",
   "execution_count": 11,
   "metadata": {},
   "outputs": [
    {
     "name": "stdout",
     "output_type": "stream",
     "text": [
      "[1, 2, 3, 4, 5, 1, 2, 3, 4, 5]\n"
     ]
    }
   ],
   "source": [
    "print(lista*2)"
   ]
  },
  {
   "cell_type": "code",
   "execution_count": 28,
   "metadata": {},
   "outputs": [
    {
     "name": "stdout",
     "output_type": "stream",
     "text": [
      "0\n",
      "1\n",
      "2\n",
      "3\n",
      "0\n",
      "1\n",
      "2\n",
      "3\n",
      "4\n"
     ]
    }
   ],
   "source": [
    "#FOR: Recorremos utilizando for\n",
    "\n",
    "for i in range(len(lista)):\n",
    "    print(i)\n",
    "\n",
    "#FOR    \n",
    "for nombre in nombres:\n",
    "    print(nombre)\n",
    "\n",
    "#WHILE\n",
    "\n",
    "i=0\n",
    "while True:\n",
    "    print(i)\n",
    "    if(i==4):\n",
    "        break\n",
    "    i+=1\n"
   ]
  },
  {
   "cell_type": "code",
   "execution_count": null,
   "metadata": {},
   "outputs": [],
   "source": []
  },
  {
   "cell_type": "markdown",
   "metadata": {},
   "source": [
    "# Ejercicio"
   ]
  },
  {
   "cell_type": "code",
   "execution_count": null,
   "metadata": {},
   "outputs": [],
   "source": [
    "i=0\n",
    "while(i<len(nombres)):\n",
    "    print(nombres[i])\n",
    "    i+=2"
   ]
  },
  {
   "cell_type": "code",
   "execution_count": 8,
   "metadata": {},
   "outputs": [],
   "source": [
    "from time import gmtime, strftime, localtime\n",
    "\n",
    "class Jugador:\n",
    "    def __init__(self, nombre, goles, partidosJugados):\n",
    "        self.nombre=nombre\n",
    "        self.goles=goles\n",
    "        self.partidosJugados=partidosJugados\n",
    "    def darGolesPromedio(self):\n",
    "        print(\"El promedio de goles es {}\".format(self.goles/self.partidosJugados))\n",
    "    \n",
    "jugador1=Jugador(\"Messi\",91,30)\n",
    "jugador2=Jugador(\"el bicho\",30,40)\n"
   ]
  },
  {
   "cell_type": "code",
   "execution_count": 9,
   "metadata": {},
   "outputs": [],
   "source": []
  },
  {
   "cell_type": "code",
   "execution_count": 1,
   "metadata": {},
   "outputs": [],
   "source": [
    "from time import gmtime, strftime, localtime\n",
    "import numpy as np\n",
    "import random\n",
    "\n",
    "class Novia:\n",
    "\n",
    "    def __init__(self, nombre, edad):\n",
    "        self.nombre = nombre\n",
    "        self.edad = edad\n",
    "    \n",
    "    def conversacion(self):\n",
    "        print(\"Hola, cómo estas?\")\n",
    "        \n",
    "        respuestas=[\"Por qué me preguntas eso?\",\"A qué te refieres?\",\"???\"]\n",
    "        bien=[\"Me parece bien\",\"Qué chévere\",\":)\",\"Súper!\"]\n",
    "        mal=[\"Lo siento :(\",\"Qué triste :/\",\"oh\",\"Qué feo\",\"Ay! :/\"]\n",
    "        \n",
    "        while True:\n",
    "            respuesta=(yield)\n",
    "            if respuesta is not None:\n",
    "                if respuesta.endswith(\"?\"):\n",
    "                    print(random.choice(respuestas))\n",
    "                elif 'bien' in respuesta:\n",
    "                    print(random.choice(bien))\n",
    "                elif 'mal' in respuesta:\n",
    "                    print(random.choice(mal))\n",
    "                elif 'amo' in respuesta:\n",
    "                    print(\"Visto {}\".format(strftime(\"%H:%M\",localtime()))) \n",
    "                else:\n",
    "                    num=np.random.rand()\n",
    "                    if(num>0.5):\n",
    "                        print(\"Hablemos de otra cosa\")\n",
    "                    else:\n",
    "                        print(\"Visto {}\".format(strftime(\"%H:%M\", localtime())))\n",
    "\n",
    "                    \n",
    "    def hablar(self):\n",
    "        novia_=self.conversacion()\n",
    "        next(novia_)\n",
    "        texto=input()\n",
    "        \n",
    "        while \"adios\" not in texto:\n",
    "            novia_.send(texto)\n",
    "            texto=input()\n",
    "        print(\"*La conversación ha finalizado*\")\n"
   ]
  },
  {
   "cell_type": "code",
   "execution_count": null,
   "metadata": {},
   "outputs": [
    {
     "name": "stdout",
     "output_type": "stream",
     "text": [
      "Hola, cómo estas?\n"
     ]
    },
    {
     "name": "stdin",
     "output_type": "stream",
     "text": [
      " bien\n"
     ]
    },
    {
     "name": "stdout",
     "output_type": "stream",
     "text": [
      "Súper!\n"
     ]
    }
   ],
   "source": [
    "amor=Novia(\"Alguien\",23)\n",
    "amor.hablar()\n",
    "\n"
   ]
  },
  {
   "cell_type": "code",
   "execution_count": null,
   "metadata": {},
   "outputs": [],
   "source": []
  },
  {
   "cell_type": "code",
   "execution_count": 2,
   "metadata": {},
   "outputs": [
    {
     "name": "stdout",
     "output_type": "stream",
     "text": [
      "Hola\n"
     ]
    },
    {
     "name": "stdin",
     "output_type": "stream",
     "text": [
      " Hola, cómo estas?\n"
     ]
    },
    {
     "name": "stdout",
     "output_type": "stream",
     "text": [
      "Preguntale a tus amiguitas\n"
     ]
    },
    {
     "name": "stdin",
     "output_type": "stream",
     "text": [
      " Estoy mal\n"
     ]
    },
    {
     "name": "stdout",
     "output_type": "stream",
     "text": [
      "lo siento :(\n"
     ]
    },
    {
     "name": "stdin",
     "output_type": "stream",
     "text": [
      " quiero helado\n"
     ]
    },
    {
     "name": "stdout",
     "output_type": "stream",
     "text": [
      "Visto 22:38\n"
     ]
    },
    {
     "name": "stdin",
     "output_type": "stream",
     "text": [
      " adios\n"
     ]
    },
    {
     "name": "stdout",
     "output_type": "stream",
     "text": [
      "*La conversación ha finalizado*\n"
     ]
    }
   ],
   "source": [
    "\n",
    "amor=Novia(\"Diana\",23)\n",
    "amor.hablar()\n"
   ]
  },
  {
   "cell_type": "code",
   "execution_count": null,
   "metadata": {},
   "outputs": [],
   "source": []
  },
  {
   "cell_type": "code",
   "execution_count": null,
   "metadata": {},
   "outputs": [],
   "source": []
  }
 ],
 "metadata": {
  "kernelspec": {
   "display_name": "Python 3",
   "language": "python",
   "name": "python3"
  },
  "language_info": {
   "codemirror_mode": {
    "name": "ipython",
    "version": 3
   },
   "file_extension": ".py",
   "mimetype": "text/x-python",
   "name": "python",
   "nbconvert_exporter": "python",
   "pygments_lexer": "ipython3",
   "version": "3.7.6"
  }
 },
 "nbformat": 4,
 "nbformat_minor": 4
}
