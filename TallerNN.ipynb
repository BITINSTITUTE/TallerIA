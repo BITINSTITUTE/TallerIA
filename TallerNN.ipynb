{
 "cells": [
  {
   "cell_type": "markdown",
   "metadata": {},
   "source": [
    "# 1. Importar librerías útiles"
   ]
  },
  {
   "cell_type": "code",
   "execution_count": 1,
   "metadata": {},
   "outputs": [],
   "source": [
    "#import warnings  \n",
    "#warnings.filterwarnings(\"ignore\")  #Incluir para evitar que aparezcan advertencias.\n",
    "\n",
    "#from keras.datasets import mnist\n",
    "\n",
    "#from keras.models import Sequential\n",
    "\n",
    "#from keras.layers import Dense, Activation\n",
    "#from keras.layers import Convolution2D, MaxPooling2D\n",
    "#from keras.layers import Flatten\n",
    "\n",
    "#from keras.utils import np_utils\n",
    "\n",
    "#import matplotlib.pyplot as plt\n",
    "#import imageio\n",
    "#import numpy as np\n",
    "\n"
   ]
  },
  {
   "cell_type": "markdown",
   "metadata": {},
   "source": [
    "# 2. Cargar datos"
   ]
  },
  {
   "cell_type": "code",
   "execution_count": 2,
   "metadata": {},
   "outputs": [],
   "source": [
    "#(X_train,Y_train),(X_test,Y_test)=mnist.load_data()"
   ]
  },
  {
   "cell_type": "markdown",
   "metadata": {},
   "source": [
    "# 3. Visualizar datos"
   ]
  },
  {
   "cell_type": "code",
   "execution_count": 3,
   "metadata": {},
   "outputs": [],
   "source": [
    "#for i in range(10):\n",
    "#    plt.imshow(X_test[i],cmap=\"binary\") \n",
    "#    plt.show()"
   ]
  },
  {
   "cell_type": "code",
   "execution_count": 4,
   "metadata": {},
   "outputs": [],
   "source": [
    "#X_train=X_train.reshape(60000,784)\n",
    "#X_test=X_test.reshape(10000,784)"
   ]
  },
  {
   "cell_type": "markdown",
   "metadata": {},
   "source": [
    "# 4. Definir parámetros de entrenamiento y modelo"
   ]
  },
  {
   "cell_type": "code",
   "execution_count": 5,
   "metadata": {},
   "outputs": [],
   "source": [
    "#classes=10\n",
    "\n",
    "#Y_train=np_utils.to_categorical(Y_train,classes)\n",
    "#Y_test=np_utils.to_categorical(Y_test,classes)\n",
    "\n",
    "#input_size=784\n",
    "#batch_size=100\n",
    "#hidden_neurons=100\n",
    "#epochs=10"
   ]
  },
  {
   "cell_type": "code",
   "execution_count": 6,
   "metadata": {},
   "outputs": [],
   "source": [
    "#model=Sequential()\n",
    "#model.add(Dense(hidden_neurons,input_dim=input_size))\n",
    "#model.add(Activation('sigmoid'))\n",
    "#model.add(Dense(classes))\n",
    "#model.add(Activation('softmax'))"
   ]
  },
  {
   "cell_type": "markdown",
   "metadata": {},
   "source": [
    "# 5. Entrenamiento"
   ]
  },
  {
   "cell_type": "code",
   "execution_count": 7,
   "metadata": {},
   "outputs": [],
   "source": [
    "\n",
    "#model.compile(loss='categorical_crossentropy',metrics=['accuracy'],optimizer='sgd')\n",
    "\n",
    "#model.fit(X_train,Y_train,batch_size=batch_size,nb_epoch=50,verbose=1)\n"
   ]
  },
  {
   "cell_type": "markdown",
   "metadata": {},
   "source": [
    "# 6. Evaluar modelo"
   ]
  },
  {
   "cell_type": "code",
   "execution_count": 8,
   "metadata": {},
   "outputs": [],
   "source": [
    "#score=model.evaluate(X_test,Y_test,verbose=1)\n",
    "\n",
    "#print('Test accuracy:',score)\n",
    "\n",
    "#weights=model.layers[0].get_weights()"
   ]
  },
  {
   "cell_type": "markdown",
   "metadata": {},
   "source": [
    "# 7. Visualizar características"
   ]
  },
  {
   "cell_type": "code",
   "execution_count": 9,
   "metadata": {},
   "outputs": [],
   "source": [
    "#import matplotlib.pyplot as plt\n",
    "#import matplotlib.cm as cm\n",
    "#import numpy\n",
    "#fig = plt.figure(figsize=(15,15))\n",
    "#w = weights[0].T\n",
    "#for neuron in range(hidden_neurons):\n",
    "#    ax = fig.add_subplot(10, 10, neuron + 1)\n",
    "#    ax.axis(\"off\")\n",
    "#    ax.imshow(numpy.reshape(w[neuron], (28, 28)), cmap=cm.Greys_r)\n",
    "#plt.show()\n"
   ]
  },
  {
   "cell_type": "markdown",
   "metadata": {},
   "source": [
    "# Predicción de datos nuevos"
   ]
  },
  {
   "cell_type": "code",
   "execution_count": 10,
   "metadata": {},
   "outputs": [],
   "source": [
    "#def predecir(img,modelo):\n",
    "#    #im = X_test[54].reshape(28,28)\n",
    "#    img=abs(255-img)\n",
    "#    plt.imshow(img)\n",
    "#    pred=modelo.predict(im.reshape(1,-1))\n",
    "#\n",
    "#\n",
    "#    print(\"El número predicho es: {} \".format(np.where(pred[0]==pred.max())[0]))"
   ]
  },
  {
   "cell_type": "code",
   "execution_count": 11,
   "metadata": {},
   "outputs": [],
   "source": [
    "#im = imageio.imread('Datos/cuatro.png')[:,:,0]\n",
    "#predecir(im,model)"
   ]
  },
  {
   "cell_type": "markdown",
   "metadata": {},
   "source": [
    "# Red neuronal convolucional"
   ]
  },
  {
   "cell_type": "code",
   "execution_count": 12,
   "metadata": {},
   "outputs": [],
   "source": [
    "# Cargar y transformar conjuntos de datos\n",
    "\n",
    "#(X_train, Y_train), (X_test, Y_test) = mnist.load_data()\n",
    "#X_train = X_train.reshape(60000, 28, 28, 1)\n",
    "#X_test = X_test.reshape(10000, 28, 28, 1)\n",
    "#Y_train = np_utils.to_categorical(Y_train, 10)\n",
    "#Y_test = np_utils.to_categorical(Y_test, 10)\n",
    "\n",
    "#Crear el modelo\n",
    "\n",
    "#model2 = Sequential([Convolution2D(filters=64,kernel_size=(3, 3),input_shape=(28, 28, 1)),Activation('sigmoid'),Convolution2D(filters=32,kernel_size=(3, 3)), Activation('sigmoid'),MaxPooling2D(pool_size=(4, 4)),  Flatten(),  Dense(64),  Activation('relu'), Dense(10),  Activation('softmax')])\n",
    "#model2.compile(loss='categorical_crossentropy',metrics=['accuracy'], optimizer='adadelta')\n",
    "#model2.fit(X_train, Y_train, batch_size=100, epochs=1,validation_split=0.1, verbose=1)\n",
    "\n",
    "#score = model2.evaluate(X_test, Y_test, verbose=1)\n",
    "#print('Test accuracy:', score[1])"
   ]
  },
  {
   "cell_type": "code",
   "execution_count": 13,
   "metadata": {},
   "outputs": [],
   "source": [
    "#def predecir2(img,modelo):\n",
    "#    img=abs(255-img)\n",
    "#    plt.imshow(img)\n",
    "#    pred=modelo.predict(img.reshape(1,28,28,1))\n",
    "\n",
    "\n",
    "#    print(\"El número predicho es: {} \".format(np.where(pred[0]==pred.max())[0]))"
   ]
  },
  {
   "cell_type": "code",
   "execution_count": 14,
   "metadata": {},
   "outputs": [],
   "source": [
    "#im = imageio.imread('Datos/dos.png')[:,:,0]\n",
    "#predecir2(im,model2)"
   ]
  },
  {
   "cell_type": "code",
   "execution_count": null,
   "metadata": {},
   "outputs": [],
   "source": []
  },
  {
   "cell_type": "code",
   "execution_count": null,
   "metadata": {},
   "outputs": [],
   "source": []
  },
  {
   "cell_type": "code",
   "execution_count": null,
   "metadata": {},
   "outputs": [],
   "source": []
  }
 ],
 "metadata": {
  "kernelspec": {
   "display_name": "Python 3",
   "language": "python",
   "name": "python3"
  },
  "language_info": {
   "codemirror_mode": {
    "name": "ipython",
    "version": 3
   },
   "file_extension": ".py",
   "mimetype": "text/x-python",
   "name": "python",
   "nbconvert_exporter": "python",
   "pygments_lexer": "ipython3",
   "version": "3.7.3"
  }
 },
 "nbformat": 4,
 "nbformat_minor": 2
}
